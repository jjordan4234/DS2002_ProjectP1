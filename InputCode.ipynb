{
 "cells": [
  {
   "cell_type": "code",
   "execution_count": 1,
   "id": "4a2c0e13",
   "metadata": {},
   "outputs": [
    {
     "name": "stdout",
     "output_type": "stream",
     "text": [
      "Enter file type (CSV, JSON): CSV\n"
     ]
    }
   ],
   "source": [
    "data_type = input(\"Enter file type (CSV, JSON): \")"
   ]
  },
  {
   "cell_type": "code",
   "execution_count": 2,
   "id": "2a2ac8b0",
   "metadata": {},
   "outputs": [
    {
     "name": "stdout",
     "output_type": "stream",
     "text": [
      "Input file path: /Users/emorywise/Desktop/DS2002 Data/Spotify_Most_Streamed_Songs.csv\n",
      "File path saved as 'csv_path'\n"
     ]
    }
   ],
   "source": [
    "if data_type == \"CSV\":\n",
    "    csv_path = input(\"Input file path: \")\n",
    "    print(\"File path saved as 'csv_path'\")\n",
    "elif data_type == \"JSON\":\n",
    "    json_url = input(\"Input url: \")\n",
    "    print(\"File path saved as 'json_url'\")\n",
    "else:\n",
    "    print(\"Invalid file type\")"
   ]
  }
 ],
 "metadata": {
  "kernelspec": {
   "display_name": "Python 3 (ipykernel)",
   "language": "python",
   "name": "python3"
  },
  "language_info": {
   "codemirror_mode": {
    "name": "ipython",
    "version": 3
   },
   "file_extension": ".py",
   "mimetype": "text/x-python",
   "name": "python",
   "nbconvert_exporter": "python",
   "pygments_lexer": "ipython3",
   "version": "3.8.8"
  }
 },
 "nbformat": 4,
 "nbformat_minor": 5
}
